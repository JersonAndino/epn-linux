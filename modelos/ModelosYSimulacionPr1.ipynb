{
  "cells": [
    {
      "cell_type": "code",
      "execution_count": 3,
      "metadata": {
        "colab": {
          "base_uri": "https://localhost:8080/"
        },
        "id": "_wsUdAkAz6Fl",
        "outputId": "b502bd2a-4315-4554-892f-1adf8f562845"
      },
      "outputs": [
        {
          "name": "stdout",
          "output_type": "stream",
          "text": [
            "Collecting simpy\n",
            "  Downloading simpy-4.1.1-py3-none-any.whl (27 kB)\n",
            "Installing collected packages: simpy\n",
            "Successfully installed simpy-4.1.1\n"
          ]
        }
      ],
      "source": [
        "#!pip install simpy"
      ]
    },
    {
      "cell_type": "code",
      "execution_count": 1,
      "metadata": {},
      "outputs": [
        {
          "name": "stdout",
          "output_type": "stream",
          "text": [
            "setup\n"
          ]
        }
      ],
      "source": [
        "print(\"setup\")"
      ]
    },
    {
      "cell_type": "code",
      "execution_count": 3,
      "metadata": {
        "id": "vCjAkXRYu7eU"
      },
      "outputs": [],
      "source": [
        "import random\n",
        "import math\n",
        "import simpy"
      ]
    },
    {
      "cell_type": "code",
      "execution_count": 4,
      "metadata": {
        "id": "cIz8ZMIqweBB"
      },
      "outputs": [],
      "source": [
        "SEMILLA = 30\n",
        "NUM_PELUQUEROS = 1\n",
        "TIEMPO_CORTE_MIN = 15\n",
        "TIEMPO_CORTE_MAX = 30\n",
        "T_LLEGADAS = 20\n",
        "TIEMPO_SIMULACION = 120\n",
        "TOT_CLIENTES = 5\n",
        "\n",
        "te = 0.0\n",
        "dt = 0.0\n",
        "fin = 0.0"
      ]
    },
    {
      "cell_type": "code",
      "execution_count": 5,
      "metadata": {
        "id": "D61hzZgSwtCm"
      },
      "outputs": [
        {
          "name": "stderr",
          "output_type": "stream",
          "text": [
            "<>:7: SyntaxWarning: invalid escape sequence '\\o'\n",
            "<>:7: SyntaxWarning: invalid escape sequence '\\o'\n",
            "/tmp/ipykernel_723152/2553123543.py:7: SyntaxWarning: invalid escape sequence '\\o'\n",
            "  print(\"\\o/ Corte listo a  %s en %.2f minutos\" % (cliente,tiempo_corte))\n"
          ]
        }
      ],
      "source": [
        "def cortar(cliente):\n",
        "  global dt\n",
        "  R = random.random()\n",
        "  tiempo = TIEMPO_CORTE_MAX - TIEMPO_CORTE_MIN\n",
        "  tiempo_corte = TIEMPO_CORTE_MIN + (tiempo*R)\n",
        "  yield env.timeout(tiempo_corte)\n",
        "  print(\"\\o/ Corte listo a  %s en %.2f minutos\" % (cliente,tiempo_corte))\n",
        "  dt = dt + tiempo_corte\n",
        "\n",
        "\n",
        "def cliente (env, name, personal):\n",
        "  global te\n",
        "  global fin\n",
        "  llega = env.now\n",
        "\n",
        "  print (\"---> %s llego a peluqueria en minuto %.2f\" % (name, llega))\n",
        "  with personal.request() as request:\n",
        "\n",
        "    yield request\n",
        "    pasa = env.now #Guarda el minuto cuado comienza a ser atendido\n",
        "    espera = pasa - llega # Calcula el tiempo que espero\n",
        "    te = te + espera #Acumula los tiempos de espera\n",
        "\n",
        "    print (\"**** %s pasa con peluquero en minuto %.2f habiendo esperado %.2f\" % (name, pasa, espera))\n",
        "\n",
        "    yield env.process(cortar (name)) # Invoca al proceso cortar\n",
        "\n",
        "    deja = env.now # Guarda el minuto en que termina el proceso cortar\n",
        "    print (\"<--- %s deja peluqueria en minuto %.2f\" % (name, deja))\n",
        "\n",
        "    fin = deja #Conserva globalmente el ultimo minuto de la simulacion\n",
        "\n",
        "def principal (env, personal):\n",
        "\n",
        "  llegada = 0\n",
        "  i = 0\n",
        "  for i in range(TOT_CLIENTES): #Paran clientes\n",
        "    R = random.random()\n",
        "    llegada = T_LLEGADAS + math.log(R) #Distribucion exponencial\n",
        "    yield env.timeout(llegada) #Deja transcurrir un tiempo entre uno y otro\n",
        "    i += 1\n",
        "    env.process(cliente (env, 'Cliente %d' % i, personal))"
      ]
    },
    {
      "cell_type": "code",
      "execution_count": 6,
      "metadata": {
        "colab": {
          "base_uri": "https://localhost:8080/"
        },
        "id": "McrxU9Fbzm28",
        "outputId": "66d44eb0-1348-4dc5-f4c3-555c920f9cd3"
      },
      "outputs": [
        {
          "name": "stdout",
          "output_type": "stream",
          "text": [
            "---------------Bienvenido Simulacion Peluqeria ------------------------\n",
            "---> Cliente 1 llego a peluqueria en minuto 19.38\n",
            "**** Cliente 1 pasa con peluquero en minuto 19.38 habiendo esperado 0.00\n",
            "\\o/ Corte listo a  Cliente 1 en 15.45 minutos\n",
            "<--- Cliente 1 deja peluqueria en minuto 34.83\n",
            "---> Cliente 2 llego a peluqueria en minuto 38.14\n",
            "**** Cliente 2 pasa con peluquero en minuto 38.14 habiendo esperado 0.00\n",
            "\\o/ Corte listo a  Cliente 2 en 18.15 minutos\n",
            "<--- Cliente 2 deja peluqueria en minuto 56.29\n",
            "---> Cliente 3 llego a peluqueria en minuto 57.72\n",
            "**** Cliente 3 pasa con peluquero en minuto 57.72 habiendo esperado 0.00\n",
            "---> Cliente 4 llego a peluqueria en minuto 76.36\n",
            "\\o/ Corte listo a  Cliente 3 en 20.96 minutos\n",
            "<--- Cliente 3 deja peluqueria en minuto 78.67\n",
            "**** Cliente 4 pasa con peluquero en minuto 78.67 habiendo esperado 2.32\n",
            "---> Cliente 5 llego a peluqueria en minuto 95.91\n",
            "\\o/ Corte listo a  Cliente 4 en 29.83 minutos\n",
            "<--- Cliente 4 deja peluqueria en minuto 108.51\n",
            "**** Cliente 5 pasa con peluquero en minuto 108.51 habiendo esperado 12.59\n",
            "\\o/ Corte listo a  Cliente 5 en 21.92 minutos\n",
            "<--- Cliente 5 deja peluqueria en minuto 130.43\n"
          ]
        }
      ],
      "source": [
        "print(\"---------------Bienvenido Simulacion Peluqeria ------------------------\")\n",
        "random.seed(SEMILLA)\n",
        "env = simpy.Environment()\n",
        "personal = simpy.Resource(env, NUM_PELUQUEROS)\n",
        "env.process(principal(env, personal))\n",
        "env.run()"
      ]
    },
    {
      "cell_type": "code",
      "execution_count": 14,
      "metadata": {
        "colab": {
          "base_uri": "https://localhost:8080/"
        },
        "id": "KdjjSSrrzoHQ",
        "outputId": "6c5bcb8c-ec84-4ad9-9d54-7b50414c97d6"
      },
      "outputs": [
        {
          "name": "stdout",
          "output_type": "stream",
          "text": [
            "\n",
            "-------------------------------------------\n",
            "\n",
            "Indicadores obtenidos:\n",
            "\n",
            "Longitud promedio de la cola: 0.11\n",
            "\n",
            "Tiempo promedio de espera: 2.98\n",
            "\n",
            "-------------------------------------------\n",
            "Uso promedio de la isntalacion = 0.82\n",
            "\n",
            "-------------------------------------------\n"
          ]
        }
      ],
      "source": [
        "print(\"\\n-------------------------------------------\")\n",
        "print(\"\\nIndicadores obtenidos:\")\n",
        "lpc = te / fin\n",
        "print(\"\\nLongitud promedio de la cola: %.2f\" % lpc)\n",
        "tep = te / TOT_CLIENTES\n",
        "print(\"\\nTiempo promedio de espera: %.2f\" % tep)\n",
        "print(\"\\n-------------------------------------------\")\n",
        "upi = (dt / fin) / NUM_PELUQUEROS\n",
        "print(\"Uso promedio de la isntalacion = %.2f\" % upi)\n",
        "print(\"\\n-------------------------------------------\")"
      ]
    }
  ],
  "metadata": {
    "colab": {
      "provenance": []
    },
    "kernelspec": {
      "display_name": "Python 3",
      "name": "python3"
    },
    "language_info": {
      "codemirror_mode": {
        "name": "ipython",
        "version": 3
      },
      "file_extension": ".py",
      "mimetype": "text/x-python",
      "name": "python",
      "nbconvert_exporter": "python",
      "pygments_lexer": "ipython3",
      "version": "3.12.2"
    }
  },
  "nbformat": 4,
  "nbformat_minor": 0
}
