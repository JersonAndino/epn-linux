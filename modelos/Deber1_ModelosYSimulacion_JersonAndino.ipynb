{
 "cells": [
  {
   "cell_type": "markdown",
   "metadata": {},
   "source": [
    "# Author: Jerson Andino"
   ]
  },
  {
   "cell_type": "code",
   "execution_count": 10,
   "metadata": {},
   "outputs": [
    {
     "name": "stdout",
     "output_type": "stream",
     "text": [
      "setup complete\n"
     ]
    }
   ],
   "source": [
    "import random\n",
    "import math\n",
    "import simpy\n",
    "print(\"setup complete\")"
   ]
  },
  {
   "cell_type": "code",
   "execution_count": 11,
   "metadata": {},
   "outputs": [],
   "source": [
    "SEMILLA = 30\n",
    "NUM_PELUQUEROS = 1\n",
    "TIEMPO_CORTE_MIN = 20\n",
    "TIEMPO_CORTE_MAX = 35\n",
    "T_LLEGADAS = 20\n",
    "TIEMPO_SIMULACION = 120\n",
    "TOT_CLIENTES = 10\n",
    "\n",
    "te = 0.0\n",
    "dt = 0.0\n",
    "fin = 0.0"
   ]
  },
  {
   "cell_type": "code",
   "execution_count": 12,
   "metadata": {},
   "outputs": [
    {
     "name": "stderr",
     "output_type": "stream",
     "text": [
      "<>:7: SyntaxWarning: invalid escape sequence '\\o'\n",
      "<>:7: SyntaxWarning: invalid escape sequence '\\o'\n",
      "/tmp/ipykernel_724038/2553123543.py:7: SyntaxWarning: invalid escape sequence '\\o'\n",
      "  print(\"\\o/ Corte listo a  %s en %.2f minutos\" % (cliente,tiempo_corte))\n"
     ]
    }
   ],
   "source": [
    "def cortar(cliente):\n",
    "  global dt\n",
    "  R = random.random()\n",
    "  tiempo = TIEMPO_CORTE_MAX - TIEMPO_CORTE_MIN\n",
    "  tiempo_corte = TIEMPO_CORTE_MIN + (tiempo*R)\n",
    "  yield env.timeout(tiempo_corte)\n",
    "  print(\"\\o/ Corte listo a  %s en %.2f minutos\" % (cliente,tiempo_corte))\n",
    "  dt = dt + tiempo_corte\n",
    "\n",
    "\n",
    "def cliente (env, name, personal):\n",
    "  global te\n",
    "  global fin\n",
    "  llega = env.now\n",
    "\n",
    "  print (\"---> %s llego a peluqueria en minuto %.2f\" % (name, llega))\n",
    "  with personal.request() as request:\n",
    "\n",
    "    yield request\n",
    "    pasa = env.now #Guarda el minuto cuado comienza a ser atendido\n",
    "    espera = pasa - llega # Calcula el tiempo que espero\n",
    "    te = te + espera #Acumula los tiempos de espera\n",
    "\n",
    "    print (\"**** %s pasa con peluquero en minuto %.2f habiendo esperado %.2f\" % (name, pasa, espera))\n",
    "\n",
    "    yield env.process(cortar (name)) # Invoca al proceso cortar\n",
    "\n",
    "    deja = env.now # Guarda el minuto en que termina el proceso cortar\n",
    "    print (\"<--- %s deja peluqueria en minuto %.2f\" % (name, deja))\n",
    "\n",
    "    fin = deja #Conserva globalmente el ultimo minuto de la simulacion\n",
    "\n",
    "def principal (env, personal):\n",
    "\n",
    "  llegada = 0\n",
    "  i = 0\n",
    "  for i in range(TOT_CLIENTES): #Paran clientes\n",
    "    R = random.random()\n",
    "    llegada = T_LLEGADAS + math.log(R) #Distribucion exponencial\n",
    "    yield env.timeout(llegada) #Deja transcurrir un tiempo entre uno y otro\n",
    "    i += 1\n",
    "    env.process(cliente (env, 'Cliente %d' % i, personal))"
   ]
  },
  {
   "cell_type": "code",
   "execution_count": 13,
   "metadata": {},
   "outputs": [
    {
     "name": "stdout",
     "output_type": "stream",
     "text": [
      "---------------Bienvenido Simulacion Peluqeria ------------------------\n",
      "---> Cliente 1 llego a peluqueria en minuto 19.38\n",
      "**** Cliente 1 pasa con peluquero en minuto 19.38 habiendo esperado 0.00\n",
      "---> Cliente 2 llego a peluqueria en minuto 38.14\n",
      "\\o/ Corte listo a  Cliente 1 en 20.45 minutos\n",
      "<--- Cliente 1 deja peluqueria en minuto 39.83\n",
      "**** Cliente 2 pasa con peluquero en minuto 39.83 habiendo esperado 1.69\n",
      "---> Cliente 3 llego a peluqueria en minuto 57.72\n",
      "\\o/ Corte listo a  Cliente 2 en 23.15 minutos\n",
      "<--- Cliente 2 deja peluqueria en minuto 62.98\n",
      "**** Cliente 3 pasa con peluquero en minuto 62.98 habiendo esperado 5.27\n",
      "---> Cliente 4 llego a peluqueria en minuto 76.36\n",
      "\\o/ Corte listo a  Cliente 3 en 25.96 minutos\n",
      "<--- Cliente 3 deja peluqueria en minuto 88.94\n",
      "**** Cliente 4 pasa con peluquero en minuto 88.94 habiendo esperado 12.58\n",
      "---> Cliente 5 llego a peluqueria en minuto 95.91\n",
      "---> Cliente 6 llego a peluqueria en minuto 115.14\n",
      "\\o/ Corte listo a  Cliente 4 en 34.83 minutos\n",
      "<--- Cliente 4 deja peluqueria en minuto 123.77\n",
      "**** Cliente 5 pasa con peluquero en minuto 123.77 habiendo esperado 27.86\n",
      "---> Cliente 7 llego a peluqueria en minuto 135.14\n",
      "---> Cliente 8 llego a peluqueria en minuto 153.72\n",
      "\\o/ Corte listo a  Cliente 5 en 34.89 minutos\n",
      "<--- Cliente 5 deja peluqueria en minuto 158.66\n",
      "**** Cliente 6 pasa con peluquero en minuto 158.66 habiendo esperado 43.52\n",
      "---> Cliente 9 llego a peluqueria en minuto 171.10\n",
      "\\o/ Corte listo a  Cliente 6 en 22.40 minutos\n",
      "<--- Cliente 6 deja peluqueria en minuto 181.06\n",
      "**** Cliente 7 pasa con peluquero en minuto 181.06 habiendo esperado 45.92\n",
      "---> Cliente 10 llego a peluqueria en minuto 190.92\n",
      "\\o/ Corte listo a  Cliente 7 en 28.99 minutos\n",
      "<--- Cliente 7 deja peluqueria en minuto 210.05\n",
      "**** Cliente 8 pasa con peluquero en minuto 210.05 habiendo esperado 56.33\n",
      "\\o/ Corte listo a  Cliente 8 en 33.76 minutos\n",
      "<--- Cliente 8 deja peluqueria en minuto 243.82\n",
      "**** Cliente 9 pasa con peluquero en minuto 243.82 habiendo esperado 72.72\n",
      "\\o/ Corte listo a  Cliente 9 en 34.58 minutos\n",
      "<--- Cliente 9 deja peluqueria en minuto 278.40\n",
      "**** Cliente 10 pasa con peluquero en minuto 278.40 habiendo esperado 87.47\n",
      "\\o/ Corte listo a  Cliente 10 en 29.82 minutos\n",
      "<--- Cliente 10 deja peluqueria en minuto 308.21\n"
     ]
    }
   ],
   "source": [
    "print(\"---------------Bienvenido Simulacion Peluqeria ------------------------\")\n",
    "random.seed(SEMILLA)\n",
    "env = simpy.Environment()\n",
    "personal = simpy.Resource(env, NUM_PELUQUEROS)\n",
    "env.process(principal(env, personal))\n",
    "env.run()"
   ]
  }
 ],
 "metadata": {
  "kernelspec": {
   "display_name": "venv",
   "language": "python",
   "name": "python3"
  },
  "language_info": {
   "codemirror_mode": {
    "name": "ipython",
    "version": 3
   },
   "file_extension": ".py",
   "mimetype": "text/x-python",
   "name": "python",
   "nbconvert_exporter": "python",
   "pygments_lexer": "ipython3",
   "version": "3.12.2"
  }
 },
 "nbformat": 4,
 "nbformat_minor": 2
}
